{
 "cells": [
  {
   "cell_type": "code",
   "execution_count": 1,
   "id": "8b71fb24-d676-4645-a279-6231275c7ed0",
   "metadata": {},
   "outputs": [
    {
     "name": "stderr",
     "output_type": "stream",
     "text": [
      "\u001b[32m\u001b[1m  Activating\u001b[22m\u001b[39m environment at `~/repos/kp-lflm-group/src/KPpack/Project.toml`\n"
     ]
    }
   ],
   "source": [
    "using Pkg\n",
    "Pkg.activate(\".\")"
   ]
  },
  {
   "cell_type": "code",
   "execution_count": 2,
   "id": "8e7feeac-81d6-41fe-9758-b11179fdbf4c",
   "metadata": {},
   "outputs": [],
   "source": [
    "using KPpack, Symbolics"
   ]
  },
  {
   "cell_type": "code",
   "execution_count": 3,
   "id": "42da1cf3-98b7-48cb-a88e-c2c0d019c538",
   "metadata": {
    "tags": []
   },
   "outputs": [],
   "source": [
    "## from Igor Vurgaftman, Matthew P. Lumb, and Jerry R. Meyer, Bands and Photons in III-V Semiconductor Quantum Structures,Oxford, 2020 chapter 3\n",
    "model=[\"E_g+c*(1+2*F)*(k_x^2+k_y^2+k_z^2)+VBO\" \"0+im(cp*k_x*P)\" \"0+im(cp*k_y*P)\" \"0+im(cp*k_z*P)\" \"0\" \"0\" \"0\" \"0\";\n",
    "    \"0+im(-cp*k_x*P)\" \"VBO-L*k_x^2-M*(k_y^2+k_z^2)\" \"-N*k_x*k_y\" \"-N*k_x*k_z\" \"0\" \"0\" \"0\" \"0\";\n",
    "    \"0+im(-cp*k_y*P)\" \"-N*k_x*k_y\" \"VBO-L*k_y^2-M*(k_x^2+k_z^2)\" \"-N*k_y*k_z\" \"0\" \"0\" \"0\" \"0\";\n",
    "    \"0+im(-cp*k_z*P)\" \"-N*k_x*k_z\" \"-N*k_y*k_z\" \"VBO-L*k_z^2-M*(k_y^2+k_x^2)\" \"0\" \"0\" \"0\" \"0\";\n",
    "    \"0\" \"0\" \"0\" \"0\" \"E_g+c*(1+2*F)*(k_x^2+k_y^2+k_z^2)+VBO\" \"0+im(cp*k_x*P)\" \"0+im(cp*k_y*P)\" \"0+im(cp*k_z*P)\" ;\n",
    "    \"0\" \"0\" \"0\" \"0\" \"0+im(-cp*k_x*P)\" \"VBO-L*k_x^2-M*(k_y^2+k_z^2)\" \"-N*k_x*k_y\" \"-N*k_x*k_z\";\n",
    "    \"0\" \"0\" \"0\" \"0\" \"0+im(-cp*k_y*P)\" \"-N*k_x*k_y\" \"VBO-L*k_y^2-M*(k_x^2+k_z^2)\" \"-N*k_y*k_z\";\n",
    "    \"0\" \"0\" \"0\" \"0\" \"0+im(-cp*k_z*P)\" \"-N*k_x*k_z\" \"-N*k_y*k_z\" \"VBO-L*k_z^2-M*(k_y^2+k_x^2)\";];\n",
    "\n",
    "strK=[\"k_x\",\"k_y\",\"k_z\"];\n",
    "\n",
    "HsT= KPpack.createSymbMatrix(model);\n",
    "\n",
    "Emomentum=KPpack.setMomentum(strK);\n",
    "HVar=KPpack.getVar(HsT);\n",
    "#real(HsT)"
   ]
  },
  {
   "cell_type": "code",
   "execution_count": 4,
   "id": "5de74772-73c9-451e-b1d0-704a6b464085",
   "metadata": {
    "tags": []
   },
   "outputs": [],
   "source": [
    "HstrSOC=[\"0\" \"0\" \"0\" \"0\" \"0\" \"0\" \"0\" \"0\";\n",
    "        \"0\" \"0\" \"0+im*(-(1/3)*d)\" \"0\" \"0\" \"0\" \"0\" \"(1/3)*d\";\n",
    "        \"0\" \"0+im*((1/3)*d)\" \"0\" \"0\" \"0\" \"0\" \"0\" \"0+im*(-(1/3)*d)\";\n",
    "        \"0\" \"0\" \"0\" \"0\" \"0\" \"-(1/3)*d\" \"0+im*((1/3)*d)\" \"0\";\n",
    "        \"0\" \"0\" \"0\" \"0\" \"0\" \"0\" \"0\" \"0\";\n",
    "        \"0\" \"0\" \"0\" \"-(1/3)*d\" \"0\" \"0\" \"0+im*((1/3)*d)\" \"0\";\n",
    "        \"0\" \"0\" \"0\" \"0+im*(-(1/3)*d)\" \"0\" \"0+im*(-(1/3)*d)\" \"0\" \"0\";\n",
    "        \"0\" \"(1/3)*d\" \"0+im*((1/3)*d)\" \"0\" \"0\" \"0\" \"0\" \"0\";];\n",
    "dvar=KPpack.StrtoSymbConv(\"Δ\")\n",
    "HSOC= KPpack.createSymbMatrix(HstrSOC); HSVar= KPpack.getVar(HSOC);\n",
    "HSocRe=substitute(real(HSOC),Dict(HSVar[1]=>dvar)); HSocIm=substitute(imag(HSOC),Dict(HSVar[1]=>dvar))\n",
    "HSOC=HSocRe+im*HSocIm;"
   ]
  },
  {
   "cell_type": "code",
   "execution_count": 5,
   "id": "804aaafe-fd1d-4edd-b9d9-fa0b6581b4ea",
   "metadata": {
    "tags": []
   },
   "outputs": [],
   "source": [
    "L=\"c*(g_1+4*g_2-(E_p/E_g))\"; L=KPpack.StrtoSymbConv(L);\n",
    "M=\"c*(g_1-2*g_2)\"; M=KPpack.StrtoSymbConv(M)\n",
    "N=\"c*(6*g_3-(E_p/E_g))\"; N=KPpack.StrtoSymbConv(N)\n",
    "#D=\"c*(1+2*F+(E_p/E_g))\"; D=KPpack.StrtoSymbConv(D)\n",
    "#Ac=\"L+c*(E_p/E_g)\"; Ac=KPpack.StrtoSymbConv(Ac); AcVar=Symbolics.get_variables(Ac);Ac=substitute(Ac,Dict(AcVar[1]=>L))\n",
    "#Cc=\"N+c*(E_p/E_g)\"; Cc=KPpack.StrtoSymbConv(Cc); CcVar=Symbolics.get_variables(Cc);Cc=substitute(Cc,Dict(CcVar[1]=>N));"
   ]
  },
  {
   "cell_type": "code",
   "execution_count": 6,
   "id": "667a1150-e580-4ba9-b572-a34b01f78fe2",
   "metadata": {
    "tags": []
   },
   "outputs": [],
   "source": [
    "Hre=real(HsT); Him=imag(HsT) \n",
    "#Hre=substitute(Hre,Dict(HVar[3]=>D)); Him=substitute(Him,Dict(HVar[3]=>D)); \n",
    "#Hre=substitute(Hre,Dict(HVar[7]=>Ac)); Him=substitute(Him,Dict(HVar[7]=>Ac)); \n",
    "Hre=substitute(Hre,Dict(HVar[8]=>L)); Him=substitute(Him,Dict(HVar[8]=>L));\n",
    "Hre=substitute(Hre,Dict(HVar[9]=>M)); Him=substitute(Him,Dict(HVar[9]=>M));\n",
    "Hre=substitute(Hre,Dict(HVar[10]=>N)); Him=substitute(Him,Dict(HVar[10]=>N));\n",
    "#Hre=substitute(Hre,Dict(HVar[9]=>Cc)); Him=substitute(Him,Dict(HVar[9]=>Cc)); "
   ]
  },
  {
   "cell_type": "code",
   "execution_count": 7,
   "id": "928f8170-2a5c-4286-82f8-250e7f6ddcb1",
   "metadata": {
    "tags": []
   },
   "outputs": [],
   "source": [
    "H8x8=Hre+im*Him;\n",
    "Htot=H8x8+HSOC;"
   ]
  },
  {
   "cell_type": "code",
   "execution_count": 8,
   "id": "25bbb3e5-8b67-4243-9a71-d29511ff0f65",
   "metadata": {
    "tags": []
   },
   "outputs": [
    {
     "data": {
      "text/latex": [
       "\\begin{equation}\n",
       "\\left[\n",
       "\\begin{array}{cccccccc}\n",
       "E_{g} + VBO + c \\left( 1 + 2 F \\right) \\left( k_{x}^{2} + k_{y}^{2} + k_{z}^{2} \\right) & 0 & 0 & 0 & 0 & 0 & 0 & 0 \\\\\n",
       "0 & VBO - c \\left( g_{1} - 2 g_{2} \\right) \\left( k_{y}^{2} + k_{z}^{2} \\right) - k_{x}^{2} c \\left( g_{1} + 4 g_{2} + \\frac{ - E_{p}}{E_{g}} \\right) &  - c k_{x} k_{y} \\left( 6 g_{3} + \\frac{ - E_{p}}{E_{g}} \\right) &  - c k_{x} k_{z} \\left( 6 g_{3} + \\frac{ - E_{p}}{E_{g}} \\right) & 0 & 0 & 0 & 0.3333333333333333 \\Delta \\\\\n",
       "0 &  - c k_{x} k_{y} \\left( 6 g_{3} + \\frac{ - E_{p}}{E_{g}} \\right) & VBO - c \\left( g_{1} - 2 g_{2} \\right) \\left( k_{x}^{2} + k_{z}^{2} \\right) - k_{y}^{2} c \\left( g_{1} + 4 g_{2} + \\frac{ - E_{p}}{E_{g}} \\right) &  - c k_{y} k_{z} \\left( 6 g_{3} + \\frac{ - E_{p}}{E_{g}} \\right) & 0 & 0 & 0 & 0 \\\\\n",
       "0 &  - c k_{x} k_{z} \\left( 6 g_{3} + \\frac{ - E_{p}}{E_{g}} \\right) &  - c k_{y} k_{z} \\left( 6 g_{3} + \\frac{ - E_{p}}{E_{g}} \\right) & VBO - k_{z}^{2} c \\left( g_{1} + 4 g_{2} + \\frac{ - E_{p}}{E_{g}} \\right) - c \\left( g_{1} - 2 g_{2} \\right) \\left( k_{x}^{2} + k_{y}^{2} \\right) & 0 &  - 0.3333333333333333 \\Delta & 0 & 0 \\\\\n",
       "0 & 0 & 0 & 0 & E_{g} + VBO + c \\left( 1 + 2 F \\right) \\left( k_{x}^{2} + k_{y}^{2} + k_{z}^{2} \\right) & 0 & 0 & 0 \\\\\n",
       "0 & 0 & 0 &  - 0.3333333333333333 \\Delta & 0 & VBO - c \\left( g_{1} - 2 g_{2} \\right) \\left( k_{y}^{2} + k_{z}^{2} \\right) - k_{x}^{2} c \\left( g_{1} + 4 g_{2} + \\frac{ - E_{p}}{E_{g}} \\right) &  - c k_{x} k_{y} \\left( 6 g_{3} + \\frac{ - E_{p}}{E_{g}} \\right) &  - c k_{x} k_{z} \\left( 6 g_{3} + \\frac{ - E_{p}}{E_{g}} \\right) \\\\\n",
       "0 & 0 & 0 & 0 & 0 &  - c k_{x} k_{y} \\left( 6 g_{3} + \\frac{ - E_{p}}{E_{g}} \\right) & VBO - c \\left( g_{1} - 2 g_{2} \\right) \\left( k_{x}^{2} + k_{z}^{2} \\right) - k_{y}^{2} c \\left( g_{1} + 4 g_{2} + \\frac{ - E_{p}}{E_{g}} \\right) &  - c k_{y} k_{z} \\left( 6 g_{3} + \\frac{ - E_{p}}{E_{g}} \\right) \\\\\n",
       "0 & 0.3333333333333333 \\Delta & 0 & 0 & 0 &  - c k_{x} k_{z} \\left( 6 g_{3} + \\frac{ - E_{p}}{E_{g}} \\right) &  - c k_{y} k_{z} \\left( 6 g_{3} + \\frac{ - E_{p}}{E_{g}} \\right) & VBO - k_{z}^{2} c \\left( g_{1} + 4 g_{2} + \\frac{ - E_{p}}{E_{g}} \\right) - c \\left( g_{1} - 2 g_{2} \\right) \\left( k_{x}^{2} + k_{y}^{2} \\right) \\\\\n",
       "\\end{array}\n",
       "\\right]\n",
       "\\end{equation}\n"
      ],
      "text/plain": [
       "8×8 Matrix{Num}:\n",
       "  E_g + VBO + c*(1 + 2F)*(k_x^2 + k_y^2 + k_z^2)  …                         0\n",
       " 0                                                                          0.333333Δ\n",
       " 0                                                                          0\n",
       " 0                                                                          0\n",
       " 0                                                                          0\n",
       " 0                                                …     -c*k_x*k_z*(6g_3 + (-E_p) / E_g)\n",
       " 0                                                      -c*k_y*k_z*(6g_3 + (-E_p) / E_g)\n",
       " 0                                                   VBO - c*(g_1 + 4g_2 + (-E_p) / E_g)*(k_z^2) - c*(g_1 - 2g_2)*(k_x^2 + k_y^2)"
      ]
     },
     "execution_count": 8,
     "metadata": {},
     "output_type": "execute_result"
    }
   ],
   "source": [
    "real(Htot)\n",
    "#HVar"
   ]
  },
  {
   "cell_type": "code",
   "execution_count": 9,
   "id": "79484d95-46d3-45e9-b1ac-7762f8f08c16",
   "metadata": {},
   "outputs": [],
   "source": [
    "dirHam=\"/home/martinez/repos/kp-lflm-group/Models_Hamiltonian/\";name=\"kane\"\n",
    "KPpack.saveHamiltonian(Htot, name,dirHam)\n"
   ]
  }
 ],
 "metadata": {
  "kernelspec": {
   "display_name": "Julia 1.6.3",
   "language": "julia",
   "name": "julia-1.6"
  },
  "language_info": {
   "file_extension": ".jl",
   "mimetype": "application/julia",
   "name": "julia",
   "version": "1.6.3"
  }
 },
 "nbformat": 4,
 "nbformat_minor": 5
}
