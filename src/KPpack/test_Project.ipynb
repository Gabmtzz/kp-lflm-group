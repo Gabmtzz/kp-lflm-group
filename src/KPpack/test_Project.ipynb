{
 "cells": [
  {
   "cell_type": "markdown",
   "id": "be9beb89-2da3-4399-b432-34b32e28fb2d",
   "metadata": {},
   "source": [
    "Activate the project"
   ]
  },
  {
   "cell_type": "code",
   "execution_count": 1,
   "id": "c1e54cd1-3249-40a6-9aca-8948fbb30df3",
   "metadata": {
    "tags": []
   },
   "outputs": [
    {
     "name": "stderr",
     "output_type": "stream",
     "text": [
      "\u001b[32m\u001b[1m  Activating\u001b[22m\u001b[39m environment at `/media/labfiles/nsom/repos/kp-lflm-group/src/KPpack/Project.toml`\n"
     ]
    }
   ],
   "source": [
    "using Pkg\n",
    "Pkg.activate(\".\")"
   ]
  },
  {
   "cell_type": "markdown",
   "id": "32245702-227d-4e1c-9efe-3e44525dfa17",
   "metadata": {},
   "source": [
    "# Load the package KPpack"
   ]
  },
  {
   "cell_type": "code",
   "execution_count": 2,
   "id": "11700760-2a8e-4870-b006-290702ad8c8d",
   "metadata": {},
   "outputs": [],
   "source": [
    "using KPpack"
   ]
  },
  {
   "cell_type": "markdown",
   "id": "917143b6-3be8-46be-823a-e13fbdb24c5e",
   "metadata": {},
   "source": [
    "# Create a KP model"
   ]
  },
  {
   "cell_type": "code",
   "execution_count": 3,
   "id": "cbe87ebf-571c-4693-8394-b99e3149292d",
   "metadata": {},
   "outputs": [],
   "source": [
    "using Symbolics"
   ]
  },
  {
   "cell_type": "code",
   "execution_count": 4,
   "id": "5534bb6e-3b0e-4709-8038-98285b82c2df",
   "metadata": {
    "tags": []
   },
   "outputs": [],
   "source": [
    "## from Igor Vurgaftman, Matthew P. Lumb, and Jerry R. Meyer, Bands and Photons in III-V Semiconductor Quantum Structures,Oxford, 2020 chapter 3\n",
    "model=[\"E_g+c*(1+2*F)*(k_x^2+k_y^2+k_z^2)+VBO\" \"0+im(cp*k_x*P)\" \"0+im(cp*k_y*P)\" \"0+im(cp*k_z*P)\" \"0\" \"0\" \"0\" \"0\";\n",
    "    \"0+im(-cp*k_x*P)\" \"VBO-L*k_x^2-M*(k_y^2+k_z^2)\" \"-N*k_x*k_y\" \"-N*k_x*k_z\" \"0\" \"0\" \"0\" \"0\";\n",
    "    \"0+im(-cp*k_y*P)\" \"-N*k_x*k_y\" \"VBO-L*k_y^2-M*(k_x^2+k_z^2)\" \"-N*k_y*k_z\" \"0\" \"0\" \"0\" \"0\";\n",
    "    \"0+im(-cp*k_z*P)\" \"-N*k_x*k_z\" \"-N*k_y*k_z\" \"VBO-L*k_z^2-M*(k_y^2+k_x^2)\" \"0\" \"0\" \"0\" \"0\";\n",
    "    \"0\" \"0\" \"0\" \"0\" \"E_g+c*(1+2*F)*(k_x^2+k_y^2+k_z^2)+VBO\" \"0+im(cp*k_x*P)\" \"0+im(cp*k_y*P)\" \"0+im(cp*k_z*P)\" ;\n",
    "    \"0\" \"0\" \"0\" \"0\" \"0+im(-cp*k_x*P)\" \"VBO-L*k_x^2-M*(k_y^2+k_z^2)\" \"-N*k_x*k_y\" \"-N*k_x*k_z\";\n",
    "    \"0\" \"0\" \"0\" \"0\" \"0+im(-cp*k_y*P)\" \"-N*k_x*k_y\" \"VBO-L*k_y^2-M*(k_x^2+k_z^2)\" \"-N*k_y*k_z\";\n",
    "    \"0\" \"0\" \"0\" \"0\" \"0+im(-cp*k_z*P)\" \"-N*k_x*k_z\" \"-N*k_y*k_z\" \"VBO-L*k_z^2-M*(k_y^2+k_x^2)\";];\n",
    "\n",
    "strK=[\"k_x\",\"k_y\",\"k_z\"];\n",
    "\n",
    "HsT= KPpack.createSymbMatrix(model);\n",
    "\n",
    "Emomentum=KPpack.setMomentum(strK);\n",
    "HVar=KPpack.getVar(HsT);\n",
    "#real(HsT)"
   ]
  },
  {
   "cell_type": "code",
   "execution_count": 5,
   "id": "c24eea7d-c679-4d28-a6e6-41ff2df19508",
   "metadata": {
    "tags": []
   },
   "outputs": [],
   "source": [
    "HstrSOC=[\"0\" \"0\" \"0\" \"0\" \"0\" \"0\" \"0\" \"0\";\n",
    "        \"0\" \"0\" \"0+i*(-d/3)\" \"0\" \"0\" \"0\" \"0\" \"d/3\";\n",
    "        \"0\" \"0+i*(d/3)\" \"0\" \"0\" \"0\" \"0\" \"0\" \"0+i*(-d/3)\";\n",
    "        \"0\" \"0\" \"0\" \"0\" \"0\" \"-d/3\" \"0+i*(d/3)\" \"0\";\n",
    "        \"0\" \"0\" \"0\" \"0\" \"0\" \"0\" \"0\" \"0\";\n",
    "        \"0\" \"0\" \"0\" \"-d/3\" \"0\" \"0\" \"0+i*(d/3)\" \"0\";\n",
    "        \"0\" \"0\" \"0\" \"0+i*(-d/3)\" \"0\" \"0+i*(-d/3)\" \"0\" \"0\";\n",
    "        \"0\" \"d/3\" \"0+i*(d/3)\" \"0\" \"0\" \"0\" \"0\" \"0\";];\n",
    "dvar=KPpack.StrtoSymbConv(\"Δ\")\n",
    "HSOC= KPpack.createSymbMatrix(HstrSOC); HSVar= KPpack.getVar(HSOC);\n",
    "HSocRe=substitute(real(HSOC),Dict(HSVar[1]=>dvar)); HSocIm=substitute(imag(HSOC),Dict(HSVar[1]=>dvar))\n",
    "HSOC=HSocRe+im*HSocIm;"
   ]
  },
  {
   "cell_type": "code",
   "execution_count": 6,
   "id": "a830454c-3b22-4f3c-a356-e68b71c056ee",
   "metadata": {
    "tags": []
   },
   "outputs": [],
   "source": [
    "L=\"c*(g_1+4*g_2-(E_p/E_g))\"; L=KPpack.StrtoSymbConv(L);\n",
    "M=\"c*(g_1-2*g_2)\"; M=KPpack.StrtoSymbConv(M)\n",
    "N=\"c*(6*g_3-(E_p/E_g))\"; N=KPpack.StrtoSymbConv(N)\n",
    "#D=\"c*(1+2*F+(E_p/E_g))\"; D=KPpack.StrtoSymbConv(D)\n",
    "#Ac=\"L+c*(E_p/E_g)\"; Ac=KPpack.StrtoSymbConv(Ac); AcVar=Symbolics.get_variables(Ac);Ac=substitute(Ac,Dict(AcVar[1]=>L))\n",
    "#Cc=\"N+c*(E_p/E_g)\"; Cc=KPpack.StrtoSymbConv(Cc); CcVar=Symbolics.get_variables(Cc);Cc=substitute(Cc,Dict(CcVar[1]=>N));"
   ]
  },
  {
   "cell_type": "code",
   "execution_count": 7,
   "id": "e273ba8a-085f-4018-bffb-f06b6333b04d",
   "metadata": {
    "tags": []
   },
   "outputs": [],
   "source": [
    "Hre=real(HsT); Him=imag(HsT) \n",
    "#Hre=substitute(Hre,Dict(HVar[3]=>D)); Him=substitute(Him,Dict(HVar[3]=>D)); \n",
    "#Hre=substitute(Hre,Dict(HVar[7]=>Ac)); Him=substitute(Him,Dict(HVar[7]=>Ac)); \n",
    "Hre=substitute(Hre,Dict(HVar[8]=>L)); Him=substitute(Him,Dict(HVar[8]=>L));\n",
    "Hre=substitute(Hre,Dict(HVar[9]=>M)); Him=substitute(Him,Dict(HVar[9]=>M));\n",
    "Hre=substitute(Hre,Dict(HVar[10]=>N)); Him=substitute(Him,Dict(HVar[10]=>N));\n",
    "#Hre=substitute(Hre,Dict(HVar[9]=>Cc)); Him=substitute(Him,Dict(HVar[9]=>Cc)); "
   ]
  },
  {
   "cell_type": "code",
   "execution_count": 8,
   "id": "495cc56c-3b4d-4e6c-bb30-a1717c998e42",
   "metadata": {
    "tags": []
   },
   "outputs": [],
   "source": [
    "H8x8=Hre+im*Him;\n",
    "Htot=H8x8+HSOC;"
   ]
  },
  {
   "cell_type": "code",
   "execution_count": 9,
   "id": "aa159a18-73a4-4e95-bf4e-a66d5b515073",
   "metadata": {
    "tags": []
   },
   "outputs": [
    {
     "data": {
      "text/latex": [
       "\\begin{equation}\n",
       "\\left[\n",
       "\\begin{array}{cccccccc}\n",
       "E_{g} + VBO + c \\left( 1 + 2 F \\right) \\left( k_{x}^{2} + k_{y}^{2} + k_{z}^{2} \\right) & 0 & 0 & 0 & 0 & 0 & 0 & 0 \\\\\n",
       "0 & VBO - c \\left( g_{1} - 2 g_{2} \\right) \\left( k_{y}^{2} + k_{z}^{2} \\right) - k_{x}^{2} c \\left( g_{1} + 4 g_{2} + \\frac{ - E_{p}}{E_{g}} \\right) &  - c k_{x} k_{y} \\left( 6 g_{3} + \\frac{ - E_{p}}{E_{g}} \\right) &  - c k_{x} k_{z} \\left( 6 g_{3} + \\frac{ - E_{p}}{E_{g}} \\right) & 0 & 0 & 0 & \\frac{1}{3} \\Delta \\\\\n",
       "0 &  - c k_{x} k_{y} \\left( 6 g_{3} + \\frac{ - E_{p}}{E_{g}} \\right) & VBO - c \\left( g_{1} - 2 g_{2} \\right) \\left( k_{x}^{2} + k_{z}^{2} \\right) - k_{y}^{2} c \\left( g_{1} + 4 g_{2} + \\frac{ - E_{p}}{E_{g}} \\right) &  - c k_{y} k_{z} \\left( 6 g_{3} + \\frac{ - E_{p}}{E_{g}} \\right) & 0 & 0 & 0 & 0 \\\\\n",
       "0 &  - c k_{x} k_{z} \\left( 6 g_{3} + \\frac{ - E_{p}}{E_{g}} \\right) &  - c k_{y} k_{z} \\left( 6 g_{3} + \\frac{ - E_{p}}{E_{g}} \\right) & VBO - k_{z}^{2} c \\left( g_{1} + 4 g_{2} + \\frac{ - E_{p}}{E_{g}} \\right) - c \\left( g_{1} - 2 g_{2} \\right) \\left( k_{x}^{2} + k_{y}^{2} \\right) & 0 &  - \\frac{1}{3} \\Delta & 0 & 0 \\\\\n",
       "0 & 0 & 0 & 0 & E_{g} + VBO + c \\left( 1 + 2 F \\right) \\left( k_{x}^{2} + k_{y}^{2} + k_{z}^{2} \\right) & 0 & 0 & 0 \\\\\n",
       "0 & 0 & 0 &  - \\frac{1}{3} \\Delta & 0 & VBO - c \\left( g_{1} - 2 g_{2} \\right) \\left( k_{y}^{2} + k_{z}^{2} \\right) - k_{x}^{2} c \\left( g_{1} + 4 g_{2} + \\frac{ - E_{p}}{E_{g}} \\right) &  - c k_{x} k_{y} \\left( 6 g_{3} + \\frac{ - E_{p}}{E_{g}} \\right) &  - c k_{x} k_{z} \\left( 6 g_{3} + \\frac{ - E_{p}}{E_{g}} \\right) \\\\\n",
       "0 & 0 & 0 & 0 & 0 &  - c k_{x} k_{y} \\left( 6 g_{3} + \\frac{ - E_{p}}{E_{g}} \\right) & VBO - c \\left( g_{1} - 2 g_{2} \\right) \\left( k_{x}^{2} + k_{z}^{2} \\right) - k_{y}^{2} c \\left( g_{1} + 4 g_{2} + \\frac{ - E_{p}}{E_{g}} \\right) &  - c k_{y} k_{z} \\left( 6 g_{3} + \\frac{ - E_{p}}{E_{g}} \\right) \\\\\n",
       "0 & \\frac{1}{3} \\Delta & 0 & 0 & 0 &  - c k_{x} k_{z} \\left( 6 g_{3} + \\frac{ - E_{p}}{E_{g}} \\right) &  - c k_{y} k_{z} \\left( 6 g_{3} + \\frac{ - E_{p}}{E_{g}} \\right) & VBO - k_{z}^{2} c \\left( g_{1} + 4 g_{2} + \\frac{ - E_{p}}{E_{g}} \\right) - c \\left( g_{1} - 2 g_{2} \\right) \\left( k_{x}^{2} + k_{y}^{2} \\right) \\\\\n",
       "\\end{array}\n",
       "\\right]\n",
       "\\end{equation}\n"
      ],
      "text/plain": [
       "8×8 Matrix{Num}:\n",
       "  E_g + VBO + c*(1 + 2F)*(k_x^2 + k_y^2 + k_z^2)  …                         0\n",
       " 0                                                                   (1//3)*Δ\n",
       " 0                                                                          0\n",
       " 0                                                                          0\n",
       " 0                                                                          0\n",
       " 0                                                …     -c*k_x*k_z*(6g_3 + (-E_p) / E_g)\n",
       " 0                                                      -c*k_y*k_z*(6g_3 + (-E_p) / E_g)\n",
       " 0                                                   VBO - c*(g_1 + 4g_2 + (-E_p) / E_g)*(k_z^2) - c*(g_1 - 2g_2)*(k_x^2 + k_y^2)"
      ]
     },
     "execution_count": 9,
     "metadata": {},
     "output_type": "execute_result"
    }
   ],
   "source": [
    "real(Htot)\n",
    "#HVar"
   ]
  },
  {
   "cell_type": "code",
   "execution_count": 10,
   "id": "91b28fdb-bc15-4f82-9e6e-7079d3a1d1cb",
   "metadata": {
    "tags": []
   },
   "outputs": [],
   "source": [
    "var=Emomentum[3] \n",
    "H0,H1,H2=KPpack.createKm(Htot,var);\n"
   ]
  },
  {
   "cell_type": "code",
   "execution_count": 11,
   "id": "8780b0ac-8725-41e2-b74e-2d2708c29286",
   "metadata": {},
   "outputs": [
    {
     "data": {
      "text/latex": [
       "\\begin{equation}\n",
       "\\left[\n",
       "\\begin{array}{cccccccc}\n",
       "0 & P cp k_{x} & P cp k_{y} & 0 & 0 & 0 & 0 & 0 \\\\\n",
       " - P cp k_{x} & 0 &  - \\frac{1}{3} \\Delta & 0 & 0 & 0 & 0 & 0 \\\\\n",
       " - P cp k_{y} & \\frac{1}{3} \\Delta & 0 & 0 & 0 & 0 & 0 &  - \\frac{1}{3} \\Delta \\\\\n",
       "0 & 0 & 0 & 0 & 0 & 0 & \\frac{1}{3} \\Delta & 0 \\\\\n",
       "0 & 0 & 0 & 0 & 0 & P cp k_{x} & P cp k_{y} & 0 \\\\\n",
       "0 & 0 & 0 & 0 &  - P cp k_{x} & 0 & \\frac{1}{3} \\Delta & 0 \\\\\n",
       "0 & 0 & 0 &  - \\frac{1}{3} \\Delta &  - P cp k_{y} &  - \\frac{1}{3} \\Delta & 0 & 0 \\\\\n",
       "0 & 0 & \\frac{1}{3} \\Delta & 0 & 0 & 0 & 0 & 0 \\\\\n",
       "\\end{array}\n",
       "\\right]\n",
       "\\end{equation}\n"
      ],
      "text/plain": [
       "8×8 Matrix{Num}:\n",
       "         0  P*cp*k_x   P*cp*k_y          0  …          0         0          0\n",
       " -P*cp*k_x         0  (-1//3)*Δ          0             0         0          0\n",
       " -P*cp*k_y  (1//3)*Δ          0          0             0         0  (-1//3)*Δ\n",
       "         0         0          0          0             0  (1//3)*Δ          0\n",
       "         0         0          0          0      P*cp*k_x  P*cp*k_y          0\n",
       "         0         0          0          0  …          0  (1//3)*Δ          0\n",
       "         0         0          0  (-1//3)*Δ     (-1//3)*Δ         0          0\n",
       "         0         0   (1//3)*Δ          0             0         0          0"
      ]
     },
     "execution_count": 11,
     "metadata": {},
     "output_type": "execute_result"
    }
   ],
   "source": [
    "imag(H0)"
   ]
  },
  {
   "cell_type": "markdown",
   "id": "f59582f0-ae1e-446c-a261-41dd25357851",
   "metadata": {},
   "source": [
    "## test the bulk calculation"
   ]
  },
  {
   "cell_type": "code",
   "execution_count": 12,
   "id": "9a01427f-7794-46b5-94f9-5d0852f1ecef",
   "metadata": {},
   "outputs": [
    {
     "data": {
      "text/plain": [
       "1.519"
      ]
     },
     "execution_count": 12,
     "metadata": {},
     "output_type": "execute_result"
    }
   ],
   "source": [
    "material=\"GaAs\"; Temp=0; soc=true;\n",
    "tipo=\"KaneII\";\n",
    "#++++++++++++++++++++++++++++++++++++++++++++++++++++++++++++++++++++++\n",
    "\n",
    "mm=KPpack.Materials(material,0.0,0.0,0.0,0.0,0.0,0.0,0.0,0.0,0.0);\n",
    "KPpack.ParMat(mm,Temp)\n",
    "#+++++++++++++++++++++++++++++++++++++++++++++++++++++++++++++++"
   ]
  },
  {
   "cell_type": "code",
   "execution_count": 13,
   "id": "be5188fc-e74c-4020-9a07-4a51ceed4c73",
   "metadata": {},
   "outputs": [],
   "source": [
    "kmax= 1.4; Nt=100; consth=0.038; const2=0.19\n",
    "Ktot,Etot=KPpack.calcBandBulk(mm,kmax,Nt,Htot,Emomentum,consth,const2)\n",
    "#++++++++++++++++++++++++\n",
    "\n",
    "EDOS, aDOS = KPpack.DOS(-2,2.2,0.01,Etot,0.04);"
   ]
  },
  {
   "cell_type": "markdown",
   "id": "7bb17ded-7a7c-4021-93e1-cf52bd43aeb1",
   "metadata": {},
   "source": [
    "# Plot band diagram"
   ]
  },
  {
   "cell_type": "code",
   "execution_count": 14,
   "id": "5e7378e9-2625-49e8-876b-e03c940c3bfe",
   "metadata": {},
   "outputs": [
    {
     "data": {
      "image/png": "[encoded data removed]",
      "text/plain": [
       "PyPlot.Figure(PyObject <Figure size 640x480 with 1 Axes>)"
      ]
     },
     "metadata": {},
     "output_type": "display_data"
    }
   ],
   "source": [
    "KPpack.PlotBands(Etot,Ktot);"
   ]
  },
  {
   "cell_type": "markdown",
   "id": "ff54e389-3ff8-4088-8ff0-2811330b68cc",
   "metadata": {},
   "source": [
    "# Plot DOS"
   ]
  },
  {
   "cell_type": "code",
   "execution_count": 15,
   "id": "ab58be7a-df9b-4499-85df-62bcbc920d6f",
   "metadata": {},
   "outputs": [
    {
     "data": {
      "image/png": "[encoded data removed]",
      "text/plain": [
       "PyPlot.Figure(PyObject <Figure size 640x480 with 1 Axes>)"
      ]
     },
     "metadata": {},
     "output_type": "display_data"
    }
   ],
   "source": [
    "KPpack.PlotDOS(EDOS,aDOS);"
   ]
  },
  {
   "cell_type": "markdown",
   "id": "4a7a7e04-d2e9-4be0-bb1f-6ad2c7b6f202",
   "metadata": {},
   "source": [
    "# Make a structure"
   ]
  },
  {
   "cell_type": "code",
   "execution_count": 16,
   "id": "39ebd1bb-4c6c-4c80-802f-06292683b542",
   "metadata": {},
   "outputs": [],
   "source": [
    "structure=[\"AlGaAs_1.0\" \"20\";\n",
    "    \"AlGaAs_0.2\" \"10\";\n",
    "    \"GaAs\" \"6\";\n",
    "    \"AlGaAs_0.2\" \"10\";\n",
    "    \"AlGaAs_1.0\" \"20\";]\n",
    "\n",
    "\n",
    "Npts,layer,nlayer=KPpack.setStructure(structure,0.2)\n",
    "\n",
    "X,boundary =KPpack.mesh(Npts,layer,nlayer);\n",
    "mlayer=Array{KPpack.Materials}(undef, length(X));\n",
    "\n",
    "boundPoints=KPpack.supParams(layer,X,boundary,mlayer,Temp);\n"
   ]
  },
  {
   "cell_type": "markdown",
   "id": "0ef59c13-a518-40a7-b2f8-4c82737732e9",
   "metadata": {},
   "source": [
    "# Plot structure"
   ]
  },
  {
   "cell_type": "code",
   "execution_count": 17,
   "id": "e7cf349d-e514-417a-9c64-40b19613b0ac",
   "metadata": {},
   "outputs": [
    {
     "data": {
      "image/png": "[encoded data removed]",
      "text/plain": [
       "PyPlot.Figure(PyObject <Figure size 640x480 with 1 Axes>)"
      ]
     },
     "metadata": {},
     "output_type": "display_data"
    }
   ],
   "source": [
    "kind=\"both\"\n",
    "KPpack.plotProf(mlayer,X,kind);"
   ]
  },
  {
   "cell_type": "markdown",
   "id": "a358ccd2-59f6-4383-8d3f-03efac73efea",
   "metadata": {},
   "source": [
    "## find eigenvalues solving for K=0"
   ]
  },
  {
   "cell_type": "code",
   "execution_count": null,
   "id": "ff5b5d22-9784-47b6-86f0-c3b7146bf35f",
   "metadata": {},
   "outputs": [],
   "source": [
    "c=0.038; cps=0.19; dx=X[2]-X[1]; pb=true\n",
    "\n",
    "@time Eqw0, EVqw0=KPpack.EigSolQW(mlayer,Npts,H0,H1,H2,c,cps,dx,Emomentum,pb);\n",
    "KPpack.PloteigvQW(Npts,Eqw0);"
   ]
  },
  {
   "cell_type": "markdown",
   "id": "8aa1ed7a-4093-4b14-a77d-544e445550cf",
   "metadata": {},
   "source": [
    "# QW Band Structure Calculation"
   ]
  },
  {
   "cell_type": "code",
   "execution_count": null,
   "id": "0875fc66-6c7a-4e95-b2f2-33c2352a2091",
   "metadata": {},
   "outputs": [],
   "source": [
    "kmax= 1.3; Nt=100; \n",
    "nc=4; nv=2*nc+2\n",
    "sV,sC,pos=KPpack.eigenValQW(real(Eqw0))\n",
    "\n",
    "pl=1; pm=1;\n",
    "@time Ecq11,Evq11,Kqw11 =KPpack.DiagQWM(mlayer,kmax,Nt,dx,pl,pm,Npts,H0,H1,H2,nc,nv,c,cps,sV,sC,Emomentum,pb);\n",
    "\n",
    "pl=1; pm=0;\n",
    "@time Ecq10,Evq10,Kqw10 =KPpack.DiagQWM(mlayer,kmax+0.1,Nt,dx,pl,pm,Npts,H0,H1,H2,nc,nv,c,cps,sV,sC,Emomentum,pb);"
   ]
  },
  {
   "cell_type": "markdown",
   "id": "3831350f-e104-4102-b510-db02561bdd0b",
   "metadata": {},
   "source": [
    "## Valence Band "
   ]
  },
  {
   "cell_type": "code",
   "execution_count": null,
   "id": "4e4dbc09-50ad-47ed-b3e8-e5cea1d9843a",
   "metadata": {},
   "outputs": [],
   "source": [
    "option=\"complete_V\"; poslab=sV\n",
    "KPpack.PlotQWBand(Ecq11,Evq11,Kqw11,Ecq10,Evq10,Kqw10,option,poslab,kmax);"
   ]
  },
  {
   "cell_type": "markdown",
   "id": "213508ad-d541-4e65-b8a0-2cf0cbdb39ab",
   "metadata": {
    "tags": []
   },
   "source": [
    "## Conduction Band"
   ]
  },
  {
   "cell_type": "code",
   "execution_count": null,
   "id": "1f1dce2f-608d-4be6-b602-17c05c9bda5d",
   "metadata": {},
   "outputs": [],
   "source": [
    "option=\"complete_C\"; poslab=sC\n",
    "KPpack.PlotQWBand(Ecq11,Evq11,Kqw11,Ecq10,Evq10,Kqw10,option,poslab,kmax);"
   ]
  },
  {
   "cell_type": "markdown",
   "id": "176738a1-0d68-4669-9169-85215aa542a8",
   "metadata": {},
   "source": [
    "# DOS QW"
   ]
  },
  {
   "cell_type": "markdown",
   "id": "9064655b-ca50-401d-b99f-c7e09d03a77a",
   "metadata": {},
   "source": [
    "## DOS Valence Band"
   ]
  },
  {
   "cell_type": "code",
   "execution_count": null,
   "id": "a8732d03-7e3a-4034-afd6-4068203e4bde",
   "metadata": {},
   "outputs": [],
   "source": [
    "Evqw= vcat(Evq11,Evq10);\n",
    "EDOSv, aDOSv = KPpack.DOS(-0.9,-0.69,0.001,Evqw,2e-3);\n",
    "KPpack.PlotDOS(EDOSv,aDOSv);"
   ]
  },
  {
   "cell_type": "markdown",
   "id": "7410a21f-f9ec-4466-a274-458e992c03f7",
   "metadata": {},
   "source": [
    "## DOS Conduction Band"
   ]
  },
  {
   "cell_type": "code",
   "execution_count": null,
   "id": "4a70e6f8-c16e-4d29-959b-57a8bb0eef40",
   "metadata": {},
   "outputs": [],
   "source": [
    "Evqw= vcat(Ecq11,Ecq10);\n",
    "EDOSc, aDOSc = KPpack.DOS(0.72,1.1,0.001,Evqw,1e-2);\n",
    "KPpack.PlotDOS(EDOSc,aDOSc);"
   ]
  },
  {
   "cell_type": "code",
   "execution_count": null,
   "id": "2e598cdc-f4f1-4a22-9c95-19d6abaa2657",
   "metadata": {},
   "outputs": [],
   "source": [
    "kx,ky=0.0,0.0\n",
    "hns=KPpack.FDHamiltonian(H0,H1,H2,mlayer,kx,ky,dx,c,cps,Npts,Emomentum,pb)"
   ]
  },
  {
   "cell_type": "code",
   "execution_count": null,
   "id": "801770ea-b62a-4bad-b729-447528bf6261",
   "metadata": {},
   "outputs": [],
   "source": [
    "hns-hns'"
   ]
  },
  {
   "cell_type": "markdown",
   "id": "ded451a2-597e-4ae2-95b9-02d4527257a1",
   "metadata": {},
   "source": [
    "save a file with band structure"
   ]
  },
  {
   "cell_type": "code",
   "execution_count": null,
   "id": "541416ab-99b7-469d-afcb-eee8f79ba67f",
   "metadata": {},
   "outputs": [],
   "source": [
    "# save a file in folder data with a name given by the user\n",
    "dat=hcat(Ktot,Etot);\n",
    "name=\"BandStructure_GaAs_1\"\n",
    "KPpack.writefile(dat,name)"
   ]
  },
  {
   "cell_type": "markdown",
   "id": "7d5c1ca4-9e23-4dc5-b894-bbe159624dc7",
   "metadata": {},
   "source": [
    "# Symbolic"
   ]
  },
  {
   "cell_type": "markdown",
   "id": "d5067ae6-4a3e-466a-a85a-a0b0a3548b32",
   "metadata": {},
   "source": [
    "## create a Finite differences matrices"
   ]
  },
  {
   "cell_type": "markdown",
   "id": "5db289fa-a1b9-41a4-a3ba-a96da8f724f9",
   "metadata": {},
   "source": [
    "# ===================================================================================="
   ]
  },
  {
   "cell_type": "code",
   "execution_count": null,
   "id": "961cecfa-34d9-47df-af58-fe78a2a0bc1b",
   "metadata": {},
   "outputs": [],
   "source": [
    "A,B,C=KPpack.constructMatrixFD(H0,H1,H2);\n",
    "exclude=[\"k_x\",\"k_y\",\"k_z\",\"c\",\"cp\"]; b1=\"r\"; b2=\"l\"\n",
    "excS=KPpack.setExcludePar(exclude)\n",
    "PrH=KPpack.getVar(Htot)\n",
    "Al,Ar,Bl,Br,Cr,Cl=KPpack.createBmatrizFD(H0,H1,H2,PrH,excS,b1,b2);\n"
   ]
  },
  {
   "cell_type": "code",
   "execution_count": null,
   "id": "2c5c4299-8c9c-4d22-9ec8-13beb16ac790",
   "metadata": {},
   "outputs": [],
   "source": [
    "mt=real(H2)"
   ]
  },
  {
   "cell_type": "code",
   "execution_count": null,
   "id": "c1d409d1-3af8-4c51-815a-cf346b968b70",
   "metadata": {},
   "outputs": [],
   "source": [
    "simplify(mt[2,2])"
   ]
  },
  {
   "cell_type": "code",
   "execution_count": null,
   "id": "6925a666-8e57-42a1-b3e3-32e57397a3f2",
   "metadata": {},
   "outputs": [],
   "source": [
    "imag(Htot)"
   ]
  },
  {
   "cell_type": "markdown",
   "id": "9d58df8d-97fc-47af-85b2-5f12637ecdba",
   "metadata": {},
   "source": [
    "# ================================"
   ]
  },
  {
   "cell_type": "code",
   "execution_count": null,
   "id": "45fee6d8-72a1-4527-8930-fe5c68575524",
   "metadata": {},
   "outputs": [],
   "source": [
    "using PyCall, PyPlot"
   ]
  },
  {
   "cell_type": "code",
   "execution_count": null,
   "id": "579899ba-c3fc-41ce-b490-80c25d27db0f",
   "metadata": {
    "tags": []
   },
   "outputs": [],
   "source": [
    "i=pos+1\n",
    "\n",
    "\n",
    "\n",
    "vec=EVqw0[5:8:end,i]\n",
    "\n",
    "vv=vec.*transpose(vec')\n",
    "#vv=real(vec)\n",
    "#lt.xlim(150,250)\n",
    "plt.plot(X,real(vv))\n",
    "Eqw0[i]"
   ]
  },
  {
   "cell_type": "code",
   "execution_count": null,
   "id": "46a3c1df-6520-481b-87bf-2ccfba0409b2",
   "metadata": {},
   "outputs": [],
   "source": [
    "vec"
   ]
  }
 ],
 "metadata": {
  "kernelspec": {
   "display_name": "Julia 1.6.5",
   "language": "julia",
   "name": "julia-1.6"
  },
  "language_info": {
   "file_extension": ".jl",
   "mimetype": "application/julia",
   "name": "julia",
   "version": "1.6.5"
  },
  "widgets": {
   "application/vnd.jupyter.widget-state+json": {
    "state": {},
    "version_major": 2,
    "version_minor": 0
   }
  }
 },
 "nbformat": 4,
 "nbformat_minor": 5
}
