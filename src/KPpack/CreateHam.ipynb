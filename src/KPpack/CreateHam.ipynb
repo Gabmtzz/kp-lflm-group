{
 "cells": [
  {
   "cell_type": "code",
   "execution_count": 1,
   "metadata": {},
   "outputs": [
    {
     "name": "stderr",
     "output_type": "stream",
     "text": [
      "\u001b[32m\u001b[1m  Activating\u001b[22m\u001b[39m environment at `~/Documents/repos/kp-lflm-group/src/KPpack/Project.toml`\n"
     ]
    }
   ],
   "source": [
    "using Pkg\n",
    "Pkg.activate(\".\")"
   ]
  },
  {
   "cell_type": "code",
   "execution_count": 6,
   "metadata": {},
   "outputs": [
    {
     "name": "stderr",
     "output_type": "stream",
     "text": [
      "┌ Info: Precompiling Symbolics [0c5d862f-8b57-4792-8d23-62f2024744c7]\n",
      "└ @ Base loading.jl:1342\n"
     ]
    }
   ],
   "source": [
    "using  Symbolics"
   ]
  },
  {
   "cell_type": "code",
   "execution_count": 7,
   "metadata": {},
   "outputs": [
    {
     "name": "stderr",
     "output_type": "stream",
     "text": [
      "┌ Info: Precompiling KPpack [26ea0ef3-e7b0-494e-b39b-84c42b7463c6]\n",
      "└ @ Base loading.jl:1342\n"
     ]
    }
   ],
   "source": [
    "using KPpack"
   ]
  },
  {
   "cell_type": "code",
   "execution_count": 8,
   "metadata": {
    "tags": []
   },
   "outputs": [
    {
     "data": {
      "text/latex": [
       "\\begin{equation}\n",
       "\\left[\n",
       "\\begin{array}{c}\n",
       "E_{g} \\\\\n",
       "VBO \\\\\n",
       "c \\\\\n",
       "F \\\\\n",
       "k_{x} \\\\\n",
       "k_{y} \\\\\n",
       "k_{z} \\\\\n",
       "\\Delta \\\\\n",
       "L \\\\\n",
       "M \\\\\n",
       "N \\\\\n",
       "P \\\\\n",
       "cp \\\\\n",
       "\\end{array}\n",
       "\\right]\n",
       "\\end{equation}\n"
      ],
      "text/plain": [
       "13-element Vector{Num}:\n",
       "    E_g\n",
       " VBO\n",
       "   c\n",
       "    F\n",
       " k_x\n",
       " k_y\n",
       " k_z\n",
       "   Δ\n",
       "   L\n",
       "   M\n",
       "   N\n",
       "   P\n",
       "  cp"
      ]
     },
     "execution_count": 8,
     "metadata": {},
     "output_type": "execute_result"
    }
   ],
   "source": [
    "## from Igor Vurgaftman, Matthew P. Lumb, and Jerry R. Meyer, Bands and Photons in III-V Semiconductor Quantum Structures,Oxford, 2020 chapter 3\n",
    "model1=[\"E_g+c*(1+2*F)*(k_x^2+k_y^2+k_z^2)+VBO\" \"0+im(cp*k_x*P)\" \"0+im(cp*k_y*P)\" \"0+im(cp*k_z*P)\" \"0\" \"0\" \"0\" \"0\";\n",
    "    \"0+im(-cp*k_x*P)\" \"VBO-c*(k_x^2+k_y^2+k_z^2)-L*k_x^2-M*(k_y^2+k_z^2)\" \"-N*k_x*k_y\" \"-N*k_x*k_z\" \"0\" \"0\" \"0\" \"0\";\n",
    "    \"0+im(-cp*k_y*P)\" \"-N*k_x*k_y\" \"VBO-c*(k_x^2+k_y^2+k_z^2)-L*k_y^2-M*(k_x^2+k_z^2)\" \"-N*k_y*k_z\" \"0\" \"0\" \"0\" \"0\";\n",
    "    \"0+im(-cp*k_z*P)\" \"-N*k_x*k_z\" \"-N*k_y*k_z\" \"VBO-c*(k_x^2+k_y^2+k_z^2)-L*k_z^2-M*(k_y^2+k_x^2)\" \"0\" \"0\" \"0\" \"0\";\n",
    "    \"0\" \"0\" \"0\" \"0\" \"E_g+c*(1+2*F)*(k_x^2+k_y^2+k_z^2)+VBO\" \"0+im(cp*k_x*P)\" \"0+im(cp*k_y*P)\" \"0+im(cp*k_z*P)\" ;\n",
    "    \"0\" \"0\" \"0\" \"0\" \"0+im(-cp*k_x*P)\" \"VBO-c*(k_x^2+k_y^2+k_z^2)-L*k_x^2-M*(k_y^2+k_z^2)\" \"-N*k_x*k_y\" \"-N*k_x*k_z\";\n",
    "    \"0\" \"0\" \"0\" \"0\" \"0+im(-cp*k_y*P)\" \"-N*k_x*k_y\" \"VBO-c*(k_x^2+k_y^2+k_z^2)-L*k_y^2-M*(k_x^2+k_z^2)\" \"-N*k_y*k_z\";\n",
    "    \"0\" \"0\" \"0\" \"0\" \"0+im(-cp*k_z*P)\" \"-N*k_x*k_z\" \"-N*k_y*k_z\" \"VBO-c*(k_x^2+k_y^2+k_z^2)-L*k_z^2-M*(k_y^2+k_x^2)\";];\n",
    "\n",
    "model2=[\"E_g+c*(1+2*F)*(k_x^2+k_y^2+k_z^2)+VBO\" \"0+im(cp*k_x*P)\" \"0+im(cp*k_y*P)\" \"0+im(cp*k_z*P)\" \"0\" \"0\" \"0\" \"0\";\n",
    "    \"0+im(-cp*k_x*P)\" \"(1/3)*Δ+VBO-c*(k_x^2+k_y^2+k_z^2)-L*k_x^2-M*(k_y^2+k_z^2)\" \"-N*k_x*k_y\" \"-N*k_x*k_z\" \"0\" \"0\" \"0\" \"0\";\n",
    "    \"0+im(-cp*k_y*P)\" \"-N*k_x*k_y\" \"(1/3)*Δ+VBO-c*(k_x^2+k_y^2+k_z^2)-L*k_y^2-M*(k_x^2+k_z^2)\" \"-N*k_y*k_z\" \"0\" \"0\" \"0\" \"0\";\n",
    "    \"0+im(-cp*k_z*P)\" \"-N*k_x*k_z\" \"-N*k_y*k_z\" \"(1/3)*Δ+VBO-c*(k_x^2+k_y^2+k_z^2)-L*k_z^2-M*(k_y^2+k_x^2)\" \"0\" \"0\" \"0\" \"0\";\n",
    "    \"0\" \"0\" \"0\" \"0\" \"E_g+c*(1+2*F)*(k_x^2+k_y^2+k_z^2)+VBO\" \"0+im(cp*k_x*P)\" \"0+im(cp*k_y*P)\" \"0+im(cp*k_z*P)\" ;\n",
    "    \"0\" \"0\" \"0\" \"0\" \"0+im(-cp*k_x*P)\" \"(1/3)*Δ+VBO-c*(k_x^2+k_y^2+k_z^2)-L*k_x^2-M*(k_y^2+k_z^2)\" \"-N*k_x*k_y\" \"-N*k_x*k_z\";\n",
    "    \"0\" \"0\" \"0\" \"0\" \"0+im(-cp*k_y*P)\" \"-N*k_x*k_y\" \"(1/3)*Δ+VBO-c*(k_x^2+k_y^2+k_z^2)-L*k_y^2-M*(k_x^2+k_z^2)\" \"-N*k_y*k_z\";\n",
    "    \"0\" \"0\" \"0\" \"0\" \"0+im(-cp*k_z*P)\" \"-N*k_x*k_z\" \"-N*k_y*k_z\" \"(1/3)*Δ+VBO-c*(k_x^2+k_y^2+k_z^2)-L*k_z^2-M*(k_y^2+k_x^2)\";];\n",
    "\n",
    "strK=[\"k_x\",\"k_y\",\"k_z\"];\n",
    "\n",
    "HsT= KPpack.createSymbMatrix(model2);\n",
    "\n",
    "Emomentum=KPpack.setMomentum(strK);\n",
    "HVar=KPpack.getVar(HsT)\n",
    "#real(HsT)"
   ]
  },
  {
   "cell_type": "code",
   "execution_count": null,
   "metadata": {},
   "outputs": [],
   "source": []
  },
  {
   "cell_type": "code",
   "execution_count": 9,
   "metadata": {
    "tags": []
   },
   "outputs": [],
   "source": [
    "HstrSOC=[\"0\" \"0\" \"0\" \"0\" \"0\" \"0\" \"0\" \"0\";\n",
    "        \"0\" \"0\" \"0+im*(-(1/3)*d)\" \"0\" \"0\" \"0\" \"0\" \"(1/3)*d\";\n",
    "        \"0\" \"0+im*((1/3)*d)\" \"0\" \"0\" \"0\" \"0\" \"0\" \"0+im*(-(1/3)*d)\";\n",
    "        \"0\" \"0\" \"0\" \"0\" \"0\" \"-(1/3)*d\" \"0+im*((1/3)*d)\" \"0\";\n",
    "        \"0\" \"0\" \"0\" \"0\" \"0\" \"0\" \"0\" \"0\";\n",
    "        \"0\" \"0\" \"0\" \"-(1/3)*d\" \"0\" \"0\" \"0+im*((1/3)*d)\" \"0\";\n",
    "        \"0\" \"0\" \"0\" \"0+im*(-(1/3)*d)\" \"0\" \"0+im*(-(1/3)*d)\" \"0\" \"0\";\n",
    "        \"0\" \"(1/3)*d\" \"0+im*((1/3)*d)\" \"0\" \"0\" \"0\" \"0\" \"0\";];\n",
    "dvar=KPpack.StrtoSymbConv(\"Δ\")\n",
    "HSOC= KPpack.createSymbMatrix(HstrSOC); HSVar= KPpack.getVar(HSOC);\n",
    "HSocRe=substitute(real(HSOC),Dict(HSVar[1]=>dvar)); HSocIm=substitute(imag(HSOC),Dict(HSVar[1]=>dvar))\n",
    "HSOC=HSocRe+im*HSocIm;"
   ]
  },
  {
   "cell_type": "code",
   "execution_count": 10,
   "metadata": {
    "tags": []
   },
   "outputs": [],
   "source": [
    "L=\"c*(g_1+4*g_2-(E_p/E_g))\"; L=KPpack.StrtoSymbConv(L);\n",
    "M=\"c*(g_1-2*g_2)\"; M=KPpack.StrtoSymbConv(M)\n",
    "N=\"c*(6*g_3-(E_p/E_g))\"; N=KPpack.StrtoSymbConv(N)\n",
    "#D=\"c*(1+2*F+(E_p/E_g))\"; D=KPpack.StrtoSymbConv(D)\n",
    "#Ac=\"L+c*(E_p/E_g)\"; Ac=KPpack.StrtoSymbConv(Ac); AcVar=Symbolics.get_variables(Ac);Ac=substitute(Ac,Dict(AcVar[1]=>L))\n",
    "#Cc=\"N+c*(E_p/E_g)\"; Cc=KPpack.StrtoSymbConv(Cc); CcVar=Symbolics.get_variables(Cc);Cc=substitute(Cc,Dict(CcVar[1]=>N));"
   ]
  },
  {
   "cell_type": "code",
   "execution_count": 11,
   "metadata": {
    "tags": []
   },
   "outputs": [],
   "source": [
    "Hre=real(HsT); Him=imag(HsT) \n",
    "#Hre=substitute(Hre,Dict(HVar[3]=>D)); Him=substitute(Him,Dict(HVar[3]=>D)); \n",
    "#Hre=substitute(Hre,Dict(HVar[7]=>Ac)); Him=substitute(Him,Dict(HVar[7]=>Ac)); \n",
    "Hre=substitute(Hre,Dict(HVar[9]=>L)); Him=substitute(Him,Dict(HVar[8]=>L));\n",
    "Hre=substitute(Hre,Dict(HVar[10]=>M)); Him=substitute(Him,Dict(HVar[9]=>M));\n",
    "Hre=substitute(Hre,Dict(HVar[11]=>N)); Him=substitute(Him,Dict(HVar[10]=>N));\n",
    "#Hre=substitute(Hre,Dict(HVar[9]=>Cc)); Him=substitute(Him,Dict(HVar[9]=>Cc)); "
   ]
  },
  {
   "cell_type": "code",
   "execution_count": 12,
   "metadata": {
    "tags": []
   },
   "outputs": [],
   "source": [
    "H8x8=Hre+im*Him;\n",
    "Htot=H8x8+HSOC;"
   ]
  },
  {
   "cell_type": "code",
   "execution_count": 13,
   "metadata": {
    "tags": []
   },
   "outputs": [
    {
     "data": {
      "text/latex": [
       "\\begin{equation}\n",
       "\\left[\n",
       "\\begin{array}{cccccccc}\n",
       "E_{g} + VBO + c \\left( 1 + 2 F \\right) \\left( k_{x}^{2} + k_{y}^{2} + k_{z}^{2} \\right) & 0 & 0 & 0 & 0 & 0 & 0 & 0 \\\\\n",
       "0 & VBO + 0.3333333333333333 \\Delta - c \\left( k_{x}^{2} + k_{y}^{2} + k_{z}^{2} \\right) - c \\left( g_{1} - 2 g_{2} \\right) \\left( k_{y}^{2} + k_{z}^{2} \\right) - k_{x}^{2} c \\left( g_{1} + 4 g_{2} + \\frac{ - E_{p}}{E_{g}} \\right) &  - c k_{x} k_{y} \\left( 6 g_{3} + \\frac{ - E_{p}}{E_{g}} \\right) &  - c k_{x} k_{z} \\left( 6 g_{3} + \\frac{ - E_{p}}{E_{g}} \\right) & 0 & 0 & 0 & 0.3333333333333333 \\Delta \\\\\n",
       "0 &  - c k_{x} k_{y} \\left( 6 g_{3} + \\frac{ - E_{p}}{E_{g}} \\right) & VBO + 0.3333333333333333 \\Delta - c \\left( k_{x}^{2} + k_{y}^{2} + k_{z}^{2} \\right) - c \\left( g_{1} - 2 g_{2} \\right) \\left( k_{x}^{2} + k_{z}^{2} \\right) - k_{y}^{2} c \\left( g_{1} + 4 g_{2} + \\frac{ - E_{p}}{E_{g}} \\right) &  - c k_{y} k_{z} \\left( 6 g_{3} + \\frac{ - E_{p}}{E_{g}} \\right) & 0 & 0 & 0 & 0 \\\\\n",
       "0 &  - c k_{x} k_{z} \\left( 6 g_{3} + \\frac{ - E_{p}}{E_{g}} \\right) &  - c k_{y} k_{z} \\left( 6 g_{3} + \\frac{ - E_{p}}{E_{g}} \\right) & VBO + 0.3333333333333333 \\Delta - c \\left( k_{x}^{2} + k_{y}^{2} + k_{z}^{2} \\right) - k_{z}^{2} c \\left( g_{1} + 4 g_{2} + \\frac{ - E_{p}}{E_{g}} \\right) - c \\left( g_{1} - 2 g_{2} \\right) \\left( k_{x}^{2} + k_{y}^{2} \\right) & 0 &  - 0.3333333333333333 \\Delta & 0 & 0 \\\\\n",
       "0 & 0 & 0 & 0 & E_{g} + VBO + c \\left( 1 + 2 F \\right) \\left( k_{x}^{2} + k_{y}^{2} + k_{z}^{2} \\right) & 0 & 0 & 0 \\\\\n",
       "0 & 0 & 0 &  - 0.3333333333333333 \\Delta & 0 & VBO + 0.3333333333333333 \\Delta - c \\left( k_{x}^{2} + k_{y}^{2} + k_{z}^{2} \\right) - c \\left( g_{1} - 2 g_{2} \\right) \\left( k_{y}^{2} + k_{z}^{2} \\right) - k_{x}^{2} c \\left( g_{1} + 4 g_{2} + \\frac{ - E_{p}}{E_{g}} \\right) &  - c k_{x} k_{y} \\left( 6 g_{3} + \\frac{ - E_{p}}{E_{g}} \\right) &  - c k_{x} k_{z} \\left( 6 g_{3} + \\frac{ - E_{p}}{E_{g}} \\right) \\\\\n",
       "0 & 0 & 0 & 0 & 0 &  - c k_{x} k_{y} \\left( 6 g_{3} + \\frac{ - E_{p}}{E_{g}} \\right) & VBO + 0.3333333333333333 \\Delta - c \\left( k_{x}^{2} + k_{y}^{2} + k_{z}^{2} \\right) - c \\left( g_{1} - 2 g_{2} \\right) \\left( k_{x}^{2} + k_{z}^{2} \\right) - k_{y}^{2} c \\left( g_{1} + 4 g_{2} + \\frac{ - E_{p}}{E_{g}} \\right) &  - c k_{y} k_{z} \\left( 6 g_{3} + \\frac{ - E_{p}}{E_{g}} \\right) \\\\\n",
       "0 & 0.3333333333333333 \\Delta & 0 & 0 & 0 &  - c k_{x} k_{z} \\left( 6 g_{3} + \\frac{ - E_{p}}{E_{g}} \\right) &  - c k_{y} k_{z} \\left( 6 g_{3} + \\frac{ - E_{p}}{E_{g}} \\right) & VBO + 0.3333333333333333 \\Delta - c \\left( k_{x}^{2} + k_{y}^{2} + k_{z}^{2} \\right) - k_{z}^{2} c \\left( g_{1} + 4 g_{2} + \\frac{ - E_{p}}{E_{g}} \\right) - c \\left( g_{1} - 2 g_{2} \\right) \\left( k_{x}^{2} + k_{y}^{2} \\right) \\\\\n",
       "\\end{array}\n",
       "\\right]\n",
       "\\end{equation}\n"
      ],
      "text/plain": [
       "8×8 Matrix{Num}:\n",
       "  E_g + VBO + c*(1 + 2F)*(k_x^2 + k_y^2 + k_z^2)  …                      0\n",
       " 0                                                                       0.333333Δ\n",
       " 0                                                                       0\n",
       " 0                                                                       0\n",
       " 0                                                                       0\n",
       " 0                                                …  -c*k_x*k_z*(6g_3 + (-E_p) / E_g)\n",
       " 0                                                   -c*k_y*k_z*(6g_3 + (-E_p) / E_g)\n",
       " 0                                                                 VBO + 0.333333Δ - c*(k_x^2 + k_y^2 + k_z^2) - c*(g_1 + 4g_2 + (-E_p) / E_g)*(k_z^2) - c*(g_1 - 2g_2)*(k_x^2 + k_y^2)"
      ]
     },
     "execution_count": 13,
     "metadata": {},
     "output_type": "execute_result"
    }
   ],
   "source": [
    "real(Htot)\n",
    "#HVar"
   ]
  },
  {
   "cell_type": "code",
   "execution_count": 15,
   "metadata": {},
   "outputs": [],
   "source": [
    "dirHam=\"/home/martinez/Documents/repos/kp-lflm-group/Models_Hamiltonian/\";name=\"kane\"\n",
    "KPpack.saveHamiltonian(Htot, name,dirHam)\n"
   ]
  },
  {
   "cell_type": "code",
   "execution_count": 107,
   "metadata": {},
   "outputs": [
    {
     "data": {
      "text/plain": [
       "\"-c*(k_x^2+k_y^2+k_z^2)\""
      ]
     },
     "execution_count": 107,
     "metadata": {},
     "output_type": "execute_result"
    }
   ],
   "source": [
    "\"-c*(k_x^2+k_y^2+k_z^2)\""
   ]
  },
  {
   "cell_type": "code",
   "execution_count": null,
   "metadata": {},
   "outputs": [],
   "source": []
  }
 ],
 "metadata": {
  "kernelspec": {
   "display_name": "Julia 1.6.6",
   "language": "julia",
   "name": "julia-1.6"
  },
  "language_info": {
   "file_extension": ".jl",
   "mimetype": "application/julia",
   "name": "julia",
   "version": "1.6.6"
  }
 },
 "nbformat": 4,
 "nbformat_minor": 5
}
