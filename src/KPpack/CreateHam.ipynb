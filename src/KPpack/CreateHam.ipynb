{
 "cells": [
  {
   "cell_type": "code",
   "execution_count": 1,
   "metadata": {},
   "outputs": [
    {
     "name": "stderr",
     "output_type": "stream",
     "text": [
      "\u001b[32m\u001b[1m  Activating\u001b[22m\u001b[39m environment at `~/Documents/repos/kp-lflm-group/src/KPpack/Project.toml`\n"
     ]
    }
   ],
   "source": [
    "using Pkg\n",
    "Pkg.activate(\".\")"
   ]
  },
  {
   "cell_type": "code",
   "execution_count": 2,
   "metadata": {},
   "outputs": [],
   "source": [
    "using  Symbolics"
   ]
  },
  {
   "cell_type": "code",
   "execution_count": 3,
   "metadata": {},
   "outputs": [],
   "source": [
    "using KPpack"
   ]
  },
  {
   "cell_type": "code",
   "execution_count": 18,
   "metadata": {
    "tags": []
   },
   "outputs": [
    {
     "data": {
      "text/latex": [
       "\\begin{equation}\n",
       "\\left[\n",
       "\\begin{array}{c}\n",
       "E_{g} \\\\\n",
       "VBO \\\\\n",
       "c \\\\\n",
       "F \\\\\n",
       "k_{x} \\\\\n",
       "k_{y} \\\\\n",
       "k_{z} \\\\\n",
       "B \\\\\n",
       "L \\\\\n",
       "M \\\\\n",
       "N \\\\\n",
       "P \\\\\n",
       "cp \\\\\n",
       "\\end{array}\n",
       "\\right]\n",
       "\\end{equation}\n"
      ],
      "text/plain": [
       "13-element Vector{Num}:\n",
       "    E_g\n",
       " VBO\n",
       "   c\n",
       "    F\n",
       " k_x\n",
       " k_y\n",
       " k_z\n",
       "   B\n",
       "   L\n",
       "   M\n",
       "   N\n",
       "   P\n",
       "  cp"
      ]
     },
     "execution_count": 18,
     "metadata": {},
     "output_type": "execute_result"
    }
   ],
   "source": [
    "## from Igor Vurgaftman, Matthew P. Lumb, and Jerry R. Meyer, Bands and Photons in III-V Semiconductor Quantum Structures,Oxford, 2020 chapter 3\n",
    "model1=[\"E_g+c*(1+2*F)*(k_x^2+k_y^2+k_z^2)+VBO\" \"0+im(cp*k_x*P)\" \"0+im(cp*k_y*P)\" \"0+im(cp*k_z*P)\" \"0\" \"0\" \"0\" \"0\";\n",
    "    \"0+im(-cp*k_x*P)\" \"VBO-L*k_x^2-M*(k_y^2+k_z^2)\" \"-N*k_x*k_y\" \"-N*k_x*k_z\" \"0\" \"0\" \"0\" \"0\";\n",
    "    \"0+im(-cp*k_y*P)\" \"-N*k_x*k_y\" \"VBO-L*k_y^2-M*(k_x^2+k_z^2)\" \"-N*k_y*k_z\" \"0\" \"0\" \"0\" \"0\";\n",
    "    \"0+im(-cp*k_z*P)\" \"-N*k_x*k_z\" \"-N*k_y*k_z\" \"VBO-L*k_z^2-M*(k_y^2+k_x^2)\" \"0\" \"0\" \"0\" \"0\";\n",
    "    \"0\" \"0\" \"0\" \"0\" \"E_g+c*(1+2*F)*(k_x^2+k_y^2+k_z^2)+VBO\" \"0+im(cp*k_x*P)\" \"0+im(cp*k_y*P)\" \"0+im(cp*k_z*P)\" ;\n",
    "    \"0\" \"0\" \"0\" \"0\" \"0+im(-cp*k_x*P)\" \"VBO-L*k_x^2-M*(k_y^2+k_z^2)\" \"-N*k_x*k_y\" \"-N*k_x*k_z\";\n",
    "    \"0\" \"0\" \"0\" \"0\" \"0+im(-cp*k_y*P)\" \"-N*k_x*k_y\" \"VBO-L*k_y^2-M*(k_x^2+k_z^2)\" \"-N*k_y*k_z\";\n",
    "    \"0\" \"0\" \"0\" \"0\" \"0+im(-cp*k_z*P)\" \"-N*k_x*k_z\" \"-N*k_y*k_z\" \"VBO-L*k_z^2-M*(k_y^2+k_x^2)\";];\n",
    "\n",
    "model1B=[\"E_g+c*(1+2*F)*(k_x^2+k_y^2+k_z^2)+VBO\" \"B*k_y*k_z+im(cp*k_x*P)\" \"B*k_z*k_x+im(cp*k_y*P)\" \"B*k_x*k_y+im(cp*k_z*P)\" \"0\" \"0\" \"0\" \"0\";\n",
    "    \"B*k_y*k_z+im(-cp*k_x*P)\" \"VBO-L*k_x^2-M*(k_y^2+k_z^2)\" \"-N*k_x*k_y\" \"-N*k_x*k_z\" \"0\" \"0\" \"0\" \"0\";\n",
    "    \"B*k_z*k_x+im(-cp*k_y*P)\" \"-N*k_x*k_y\" \"VBO-L*k_y^2-M*(k_x^2+k_z^2)\" \"-N*k_y*k_z\" \"0\" \"0\" \"0\" \"0\";\n",
    "    \"B*k_x*k_y+im(-cp*k_z*P)\" \"-N*k_x*k_z\" \"-N*k_y*k_z\" \"VBO-L*k_z^2-M*(k_y^2+k_x^2)\" \"0\" \"0\" \"0\" \"0\";\n",
    "    \"0\" \"0\" \"0\" \"0\" \"E_g+c*(1+2*F)*(k_x^2+k_y^2+k_z^2)+VBO\" \"B*k_y*k_z+im(cp*k_x*P)\" \"B*k_z*k_x+im(cp*k_y*P)\" \"B*k_x*k_y+im(cp*k_z*P)\" ;\n",
    "    \"0\" \"0\" \"0\" \"0\" \"B*k_y*k_z+im(-cp*k_x*P)\" \"VBO-L*k_x^2-M*(k_y^2+k_z^2)\" \"-N*k_x*k_y\" \"-N*k_x*k_z\";\n",
    "    \"0\" \"0\" \"0\" \"0\" \"B*k_z*k_x+im(-cp*k_y*P)\" \"-N*k_x*k_y\" \"VBO-L*k_y^2-M*(k_x^2+k_z^2)\" \"-N*k_y*k_z\";\n",
    "    \"0\" \"0\" \"0\" \"0\" \"B*k_x*k_y+im(-cp*k_z*P)\" \"-N*k_x*k_z\" \"-N*k_y*k_z\" \"VBO-L*k_z^2-M*(k_y^2+k_x^2)\";];\n",
    "\n",
    "model2=[\"E_g+c*(1+2*F)*(k_x^2+k_y^2+k_z^2)+VBO\" \"0+im(cp*k_x*P)\" \"0+im(cp*k_y*P)\" \"0+im(cp*k_z*P)\" \"0\" \"0\" \"0\" \"0\";\n",
    "    \"0+im(-cp*k_x*P)\" \"(1/3)*Δ+VBO-c*(k_x^2+k_y^2+k_z^2)-L*k_x^2-M*(k_y^2+k_z^2)\" \"-N*k_x*k_y\" \"-N*k_x*k_z\" \"0\" \"0\" \"0\" \"0\";\n",
    "    \"0+im(-cp*k_y*P)\" \"-N*k_x*k_y\" \"(1/3)*Δ+VBO-c*(k_x^2+k_y^2+k_z^2)-L*k_y^2-M*(k_x^2+k_z^2)\" \"-N*k_y*k_z\" \"0\" \"0\" \"0\" \"0\";\n",
    "    \"0+im(-cp*k_z*P)\" \"-N*k_x*k_z\" \"-N*k_y*k_z\" \"(1/3)*Δ+VBO-c*(k_x^2+k_y^2+k_z^2)-L*k_z^2-M*(k_y^2+k_x^2)\" \"0\" \"0\" \"0\" \"0\";\n",
    "    \"0\" \"0\" \"0\" \"0\" \"E_g+c*(1+2*F)*(k_x^2+k_y^2+k_z^2)+VBO\" \"0+im(cp*k_x*P)\" \"0+im(cp*k_y*P)\" \"0+im(cp*k_z*P)\" ;\n",
    "    \"0\" \"0\" \"0\" \"0\" \"0+im(-cp*k_x*P)\" \"(1/3)*Δ+VBO-c*(k_x^2+k_y^2+k_z^2)-L*k_x^2-M*(k_y^2+k_z^2)\" \"-N*k_x*k_y\" \"-N*k_x*k_z\";\n",
    "    \"0\" \"0\" \"0\" \"0\" \"0+im(-cp*k_y*P)\" \"-N*k_x*k_y\" \"(1/3)*Δ+VBO-c*(k_x^2+k_y^2+k_z^2)-L*k_y^2-M*(k_x^2+k_z^2)\" \"-N*k_y*k_z\";\n",
    "    \"0\" \"0\" \"0\" \"0\" \"0+im(-cp*k_z*P)\" \"-N*k_x*k_z\" \"-N*k_y*k_z\" \"(1/3)*Δ+VBO-c*(k_x^2+k_y^2+k_z^2)-L*k_z^2-M*(k_y^2+k_x^2)\";];\n",
    "\n",
    "strK=[\"k_x\",\"k_y\",\"k_z\"];\n",
    "\n",
    "HsT= KPpack.createSymbMatrix(model1B);\n",
    "\n",
    "Emomentum=KPpack.setMomentum(strK);\n",
    "HVar=KPpack.getVar(HsT)\n",
    "#real(HsT)"
   ]
  },
  {
   "cell_type": "code",
   "execution_count": 19,
   "metadata": {
    "tags": []
   },
   "outputs": [],
   "source": [
    "HstrSOC=[\"0\" \"0\" \"0\" \"0\" \"0\" \"0\" \"0\" \"0\";\n",
    "        \"0\" \"0\" \"0+im*(-(1/3)*d)\" \"0\" \"0\" \"0\" \"0\" \"(1/3)*d\";\n",
    "        \"0\" \"0+im*((1/3)*d)\" \"0\" \"0\" \"0\" \"0\" \"0\" \"0+im*(-(1/3)*d)\";\n",
    "        \"0\" \"0\" \"0\" \"0\" \"0\" \"-(1/3)*d\" \"0+im*((1/3)*d)\" \"0\";\n",
    "        \"0\" \"0\" \"0\" \"0\" \"0\" \"0\" \"0\" \"0\";\n",
    "        \"0\" \"0\" \"0\" \"-(1/3)*d\" \"0\" \"0\" \"0+im*((1/3)*d)\" \"0\";\n",
    "        \"0\" \"0\" \"0\" \"0+im*(-(1/3)*d)\" \"0\" \"0+im*(-(1/3)*d)\" \"0\" \"0\";\n",
    "        \"0\" \"(1/3)*d\" \"0+im*((1/3)*d)\" \"0\" \"0\" \"0\" \"0\" \"0\";];\n",
    "dvar=KPpack.StrtoSymbConv(\"Δ\")\n",
    "HSOC= KPpack.createSymbMatrix(HstrSOC); HSVar= KPpack.getVar(HSOC);\n",
    "HSocRe=substitute(real(HSOC),Dict(HSVar[1]=>dvar)); HSocIm=substitute(imag(HSOC),Dict(HSVar[1]=>dvar))\n",
    "HSOC=HSocRe+im*HSocIm;"
   ]
  },
  {
   "cell_type": "code",
   "execution_count": 20,
   "metadata": {
    "tags": []
   },
   "outputs": [],
   "source": [
    "L=\"c*(g_1+4*g_2-(E_p/E_g))\"; L=KPpack.StrtoSymbConv(L);\n",
    "M=\"c*(g_1-2*g_2)\"; M=KPpack.StrtoSymbConv(M)\n",
    "N=\"c*(6*g_3-(E_p/E_g))\"; N=KPpack.StrtoSymbConv(N)\n",
    "#D=\"c*(1+2*F+(E_p/E_g))\"; D=KPpack.StrtoSymbConv(D)\n",
    "#Ac=\"L+c*(E_p/E_g)\"; Ac=KPpack.StrtoSymbConv(Ac); AcVar=Symbolics.get_variables(Ac);Ac=substitute(Ac,Dict(AcVar[1]=>L))\n",
    "#Cc=\"N+c*(E_p/E_g)\"; Cc=KPpack.StrtoSymbConv(Cc); CcVar=Symbolics.get_variables(Cc);Cc=substitute(Cc,Dict(CcVar[1]=>N));"
   ]
  },
  {
   "cell_type": "code",
   "execution_count": 21,
   "metadata": {
    "tags": []
   },
   "outputs": [],
   "source": [
    "Hre=real(HsT); Him=imag(HsT) \n",
    "#Hre=substitute(Hre,Dict(HVar[3]=>D)); Him=substitute(Him,Dict(HVar[3]=>D)); \n",
    "#Hre=substitute(Hre,Dict(HVar[7]=>Ac)); Him=substitute(Him,Dict(HVar[7]=>Ac)); \n",
    "Hre=substitute(Hre,Dict(HVar[9]=>L)); Him=substitute(Him,Dict(HVar[8]=>L));\n",
    "Hre=substitute(Hre,Dict(HVar[10]=>M)); Him=substitute(Him,Dict(HVar[9]=>M));\n",
    "Hre=substitute(Hre,Dict(HVar[11]=>N)); Him=substitute(Him,Dict(HVar[10]=>N));\n",
    "#Hre=substitute(Hre,Dict(HVar[9]=>Cc)); Him=substitute(Him,Dict(HVar[9]=>Cc)); "
   ]
  },
  {
   "cell_type": "code",
   "execution_count": 22,
   "metadata": {
    "tags": []
   },
   "outputs": [],
   "source": [
    "H8x8=Hre+im*Him;\n",
    "Htot=H8x8+HSOC;"
   ]
  },
  {
   "cell_type": "code",
   "execution_count": 24,
   "metadata": {
    "tags": []
   },
   "outputs": [
    {
     "data": {
      "text/latex": [
       "\\begin{equation}\n",
       "\\left[\n",
       "\\begin{array}{cccccccc}\n",
       "0 & P cp k_{x} & P cp k_{y} & P cp k_{z} & 0 & 0 & 0 & 0 \\\\\n",
       " - P cp k_{x} & 0 &  - 0.3333333333333333 \\Delta & 0 & 0 & 0 & 0 & 0 \\\\\n",
       " - P cp k_{y} & 0.3333333333333333 \\Delta & 0 & 0 & 0 & 0 & 0 &  - 0.3333333333333333 \\Delta \\\\\n",
       " - P cp k_{z} & 0 & 0 & 0 & 0 & 0 & 0.3333333333333333 \\Delta & 0 \\\\\n",
       "0 & 0 & 0 & 0 & 0 & P cp k_{x} & P cp k_{y} & P cp k_{z} \\\\\n",
       "0 & 0 & 0 & 0 &  - P cp k_{x} & 0 & 0.3333333333333333 \\Delta & 0 \\\\\n",
       "0 & 0 & 0 &  - 0.3333333333333333 \\Delta &  - P cp k_{y} &  - 0.3333333333333333 \\Delta & 0 & 0 \\\\\n",
       "0 & 0 & 0.3333333333333333 \\Delta & 0 &  - P cp k_{z} & 0 & 0 & 0 \\\\\n",
       "\\end{array}\n",
       "\\right]\n",
       "\\end{equation}\n"
      ],
      "text/plain": [
       "8×8 Matrix{Num}:\n",
       "         0  P*cp*k_x          …         0                 0\n",
       " -P*cp*k_x         0                    0                 0\n",
       " -P*cp*k_y         0.333333Δ            0                -0.333333Δ\n",
       " -P*cp*k_z         0                    0.333333Δ         0\n",
       "         0         0             P*cp*k_y          P*cp*k_z\n",
       "         0         0          …         0.333333Δ         0\n",
       "         0         0                    0                 0\n",
       "         0         0                    0                 0"
      ]
     },
     "execution_count": 24,
     "metadata": {},
     "output_type": "execute_result"
    }
   ],
   "source": [
    "imag(Htot)\n",
    "#HVar"
   ]
  },
  {
   "cell_type": "code",
   "execution_count": 25,
   "metadata": {},
   "outputs": [],
   "source": [
    "dirHam=\"/home/martinez/Documents/repos/kp-lflm-group/Models_Hamiltonian/\";name=\"kaneB\"\n",
    "KPpack.saveHamiltonian(Htot, name,dirHam)\n"
   ]
  },
  {
   "cell_type": "code",
   "execution_count": 11,
   "metadata": {},
   "outputs": [
    {
     "data": {
      "text/plain": [
       "\"-c*(k_x^2+k_y^2+k_z^2)\""
      ]
     },
     "execution_count": 11,
     "metadata": {},
     "output_type": "execute_result"
    }
   ],
   "source": [
    "\"-c*(k_x^2+k_y^2+k_z^2)\""
   ]
  },
  {
   "cell_type": "markdown",
   "metadata": {},
   "source": [
    "## Hamiltonian 6 x 6"
   ]
  },
  {
   "cell_type": "code",
   "execution_count": 12,
   "metadata": {},
   "outputs": [
    {
     "data": {
      "text/latex": [
       "\\begin{equation}\n",
       "\\left[\n",
       "\\begin{array}{c}\n",
       "VBO \\\\\n",
       "L \\\\\n",
       "k_{x} \\\\\n",
       "M \\\\\n",
       "k_{y} \\\\\n",
       "k_{z} \\\\\n",
       "N \\\\\n",
       "\\end{array}\n",
       "\\right]\n",
       "\\end{equation}\n"
      ],
      "text/plain": [
       "7-element Vector{Num}:\n",
       " VBO\n",
       "   L\n",
       " k_x\n",
       "   M\n",
       " k_y\n",
       " k_z\n",
       "   N"
      ]
     },
     "execution_count": 12,
     "metadata": {},
     "output_type": "execute_result"
    }
   ],
   "source": [
    "model6x61=[\"VBO-L*k_x^2-M*(k_y^2+k_z^2)\" \"-N*k_x*k_y\" \"-N*k_x*k_z\" \"0\" \"0\" \"0\";\n",
    "    \"-N*k_x*k_y\" \"VBO-L*k_y^2-M*(k_x^2+k_z^2)\" \"-N*k_y*k_z\" \"0\" \"0\" \"0\";\n",
    "    \"-N*k_x*k_z\" \"-N*k_y*k_z\" \"VBO-L*k_z^2-M*(k_y^2+k_x^2)\" \"0\" \"0\" \"0\";\n",
    "    \"0\" \"0\" \"0\" \"VBO-L*k_x^2-M*(k_y^2+k_z^2)\" \"-N*k_x*k_y\" \"-N*k_x*k_z\";\n",
    "    \"0\" \"0\" \"0\" \"-N*k_x*k_y\" \"VBO-L*k_y^2-M*(k_x^2+k_z^2)\" \"-N*k_y*k_z\";\n",
    "    \"0\" \"0\" \"0\" \"-N*k_x*k_z\" \"-N*k_y*k_z\" \"VBO-L*k_z^2-M*(k_y^2+k_x^2)\";];\n",
    "\n",
    "strK6x6=[\"k_x\",\"k_y\",\"k_z\"];\n",
    "\n",
    "HsT6x6= KPpack.createSymbMatrix(model6x61);\n",
    "\n",
    "Emomentum6x6=KPpack.setMomentum(strK6x6);\n",
    "HVar6x6=KPpack.getVar(HsT6x6)"
   ]
  },
  {
   "cell_type": "code",
   "execution_count": 13,
   "metadata": {},
   "outputs": [],
   "source": [
    "HstrSOC6x6=[\"0\" \"0+im*(-(1/3)*d)\" \"0\" \"0\" \"0\" \"(1/3)*d\";\n",
    "        \"0+im*((1/3)*d)\" \"0\" \"0\" \"0\" \"0\" \"0+im*(-(1/3)*d)\";\n",
    "        \"0\" \"0\" \"0\" \"-(1/3)*d\" \"0+im*((1/3)*d)\" \"0\";\n",
    "        \"0\" \"0\" \"-(1/3)*d\" \"0\" \"0+im*((1/3)*d)\" \"0\";\n",
    "        \"0\" \"0\" \"0+im*(-(1/3)*d)\" \"0+im*(-(1/3)*d)\" \"0\" \"0\";\n",
    "        \"(1/3)*d\" \"0+im*((1/3)*d)\" \"0\" \"0\" \"0\" \"0\";];\n",
    "dvar=KPpack.StrtoSymbConv(\"Δ\")\n",
    "HSOC6x6= KPpack.createSymbMatrix(HstrSOC6x6); HSVar6x6= KPpack.getVar(HSOC6x6);\n",
    "HSoc6x6Re=substitute(real(HSOC6x6),Dict(HSVar6x6[1]=>dvar)); HSoc6x6Im=substitute(imag(HSOC6x6),Dict(HSVar6x6[1]=>dvar))\n",
    "HSOC6x6=HSoc6x6Re+im*HSoc6x6Im;"
   ]
  },
  {
   "cell_type": "code",
   "execution_count": 14,
   "metadata": {},
   "outputs": [],
   "source": [
    "L=\"c*(g_1+4*g_2)\"; L=KPpack.StrtoSymbConv(L);\n",
    "M=\"c*(g_1-2*g_2)\"; M=KPpack.StrtoSymbConv(M)\n",
    "N=\"c*(6*g_3)\"; N=KPpack.StrtoSymbConv(N);"
   ]
  },
  {
   "cell_type": "code",
   "execution_count": 15,
   "metadata": {},
   "outputs": [],
   "source": [
    "Hre6x6=real(HsT6x6); Him6x6=imag(HsT6x6) \n",
    "#Hre=substitute(Hre,Dict(HVar[3]=>D)); Him=substitute(Him,Dict(HVar[3]=>D)); \n",
    "#Hre=substitute(Hre,Dict(HVar[7]=>Ac)); Him=substitute(Him,Dict(HVar[7]=>Ac)); \n",
    "Hre6x6=substitute(Hre6x6,Dict(HVar6x6[2]=>L)); Him6x6=substitute(Him6x6,Dict(HVar6x6[2]=>L));\n",
    "Hre6x6=substitute(Hre6x6,Dict(HVar6x6[4]=>M)); Him6x6=substitute(Him6x6,Dict(HVar6x6[4]=>M));\n",
    "Hre6x6=substitute(Hre6x6,Dict(HVar6x6[7]=>N)); Him6x6=substitute(Him6x6,Dict(HVar6x6[7]=>N));"
   ]
  },
  {
   "cell_type": "code",
   "execution_count": 16,
   "metadata": {},
   "outputs": [],
   "source": [
    "H6x6=Hre6x6+im*Him6x6;\n",
    "Htot6x6=H6x6+HSOC6x6;"
   ]
  },
  {
   "cell_type": "code",
   "execution_count": 17,
   "metadata": {},
   "outputs": [
    {
     "data": {
      "text/latex": [
       "\\begin{equation}\n",
       "\\left[\n",
       "\\begin{array}{cccccc}\n",
       "0 &  - 0.3333333333333333 \\Delta & 0 & 0 & 0 & 0 \\\\\n",
       "0.3333333333333333 \\Delta & 0 & 0 & 0 & 0 &  - 0.3333333333333333 \\Delta \\\\\n",
       "0 & 0 & 0 & 0 & 0.3333333333333333 \\Delta & 0 \\\\\n",
       "0 & 0 & 0 & 0 & 0.3333333333333333 \\Delta & 0 \\\\\n",
       "0 & 0 &  - 0.3333333333333333 \\Delta &  - 0.3333333333333333 \\Delta & 0 & 0 \\\\\n",
       "0 & 0.3333333333333333 \\Delta & 0 & 0 & 0 & 0 \\\\\n",
       "\\end{array}\n",
       "\\right]\n",
       "\\end{equation}\n"
      ],
      "text/plain": [
       "6×6 Matrix{Num}:\n",
       " 0          -0.333333Δ   0           0          0           0\n",
       " 0.333333Δ   0           0           0          0          -0.333333Δ\n",
       " 0           0           0           0          0.333333Δ   0\n",
       " 0           0           0           0          0.333333Δ   0\n",
       " 0           0          -0.333333Δ  -0.333333Δ  0           0\n",
       " 0           0.333333Δ   0           0          0           0"
      ]
     },
     "execution_count": 17,
     "metadata": {},
     "output_type": "execute_result"
    }
   ],
   "source": [
    "imag(Htot6x6)"
   ]
  },
  {
   "cell_type": "code",
   "execution_count": 18,
   "metadata": {},
   "outputs": [],
   "source": [
    "name=\"kane6x6\"\n",
    "KPpack.saveHamiltonian(Htot6x6, name,dirHam)"
   ]
  },
  {
   "cell_type": "markdown",
   "metadata": {},
   "source": [
    "# ++++++++++++++++++++++++++++++++++++++++++++++++++++++++"
   ]
  },
  {
   "cell_type": "code",
   "execution_count": null,
   "metadata": {},
   "outputs": [],
   "source": [
    "\n"
   ]
  }
 ],
 "metadata": {
  "kernelspec": {
   "display_name": "Julia 1.6.6",
   "language": "julia",
   "name": "julia-1.6"
  },
  "language_info": {
   "file_extension": ".jl",
   "mimetype": "application/julia",
   "name": "julia",
   "version": "1.6.6"
  }
 },
 "nbformat": 4,
 "nbformat_minor": 5
}
